
{
 "cells": [
  {
   "cell_type": "markdown",
   "metadata": {},
   "source": [
    "# Web Scraping Cars24 for Jeep Cars in Mumbai\n",
    "This notebook demonstrates the process of web scraping car details from Cars24.com for Jeep cars in the Mumbai location."
   ]
  },
  {
   "cell_type": "code",
   "execution_count": 1,
   "metadata": {},
   "outputs": [],
   "source": [
    "# Import necessary libraries\n",
    "import requests\n",
    "from bs4 import BeautifulSoup\n",
    "import pandas as pd"
   ]
  },
  {
   "cell_type": "markdown",
   "metadata": {},
   "source": [
    "## Data Extraction\n",
    "We will extract the details of kilometers driven, year of manufacture, fuel type, transmission, and price."
   ]
  },
  {
   "cell_type": "code",
   "execution_count": 2,
   "metadata": {},
   "outputs": [],
   "source": [
    "# URL for Jeep cars in Mumbai on Cars24\n",
    "url = 'https://www.cars24.com/buy-used-jeep-cars-mumbai/'\n",
    "\n",
    "# Send a request to the website\n",
    "response = requests.get(url)\n",
    "soup = BeautifulSoup(response.text, 'html.parser')"
   ]
  },
  {
   "cell_type": "code",
   "execution_count": 3,
   "metadata": {},
   "outputs": [],
   "source": [
    "# Extract car details\n",
    "cars = soup.find_all('div', class_='car')\n",
    "\n",
    "data = []\n",
    "for car in cars:\n",
    "    kilometers = car.find('span', class_='kilometers').text\n",
    "    year = car.find('span', class_='year').text\n",
    "    fuel_type = car.find('span', class_='fuel-type').text\n",
    "    transmission = car.find('span', class_='transmission').text\n",
    "    price = car.find('span', class_='price').text\n",
    "    \n",
    "    data.append([kilometers, year, fuel_type, transmission, price])"
   ]
  },
  {
   "cell_type": "code",
   "execution_count": 4,
   "metadata": {},
   "outputs": [],
   "source": [
    "# Create a DataFrame\n",
    "df = pd.DataFrame(data, columns=['Kilometers Driven', 'Year of Manufacture', 'Fuel Type', 'Transmission', 'Price'])"
   ]
  },
  {
   "cell_type": "markdown",
   "metadata": {},
   "source": [
    "## Data Cleaning\n",
    "We will clean the data to ensure it is in the correct format for analysis."
   ]
  },
  {
   "cell_type": "code",
   "execution_count": 5,
   "metadata": {},
   "outputs": [],
   "source": [
    "# Clean the data\n",
    "df['Kilometers Driven'] = df['Kilometers Driven'].str.replace(' km', '').str.replace(',', '').astype(int)\n",
    "df['Year of Manufacture'] = df['Year of Manufacture'].astype(int)\n",
    "df['Price'] = df['Price'].str.replace('₹', '').str.replace(',', '').astype(int)"
   ]
  },
  {
   "cell_type": "code",
   "execution_count": 6,
   "metadata": {},
   "outputs": [],
   "source": [
    "# Save to CSV\n",
    "df.to_csv('jeep_cars_mumbai.csv', index=False)\n",
    "\n",
    "print('Data saved to jeep_cars_mumbai.csv')"
   ]
  }
 ],
 "metadata": {
  "kernelspec": {
   "display_name": "Python 3",
   "language": "python",
   "name": "python3"
  },
  "language_info": {
   "codemirror_mode": {
    "name": "ipython",
    "version": 3
   },
   "file_extension": ".py",
   "mimetype": "text/x-python",
   "name": "python",
   "nbconvert_exporter": "python",
   "pygments_lexer": "ipython3",
   "version": "3.8.10"
  }
 },
 "nbformat": 4,
 "nbformat_minor": 4
}
